{
 "cells": [
  {
   "cell_type": "raw",
   "id": "3a466ec2-becd-43ed-81ba-3f55aebb0fa6",
   "metadata": {},
   "source": [
    "---\n",
    "title: \"혁신교육개발원 특강\"\n",
    "bibliography: ref.bib\n",
    "subtitle: \"Quarto를 이용한 과학기술 교육컨텐츠 개발\"\n",
    "author: \"최규빈\"\n",
    "format:\n",
    "  revealjs:\n",
    "    chalkboard: true\n",
    "---"
   ]
  },
  {
   "cell_type": "markdown",
   "id": "1d22e74a-c4e1-46ce-9281-bf5137c0d1a4",
   "metadata": {},
   "source": [
    "# What is Quarto?"
   ]
  },
  {
   "cell_type": "markdown",
   "id": "94c25eb6-2248-448a-b4c4-90ace59495c8",
   "metadata": {},
   "source": [
    "## About Quarto "
   ]
  },
  {
   "cell_type": "markdown",
   "id": "e11ba957-d916-4cc3-b809-a302c0f33e09",
   "metadata": {},
   "source": [
    "**Official website**: <https://quarto.org/>"
   ]
  },
  {
   "cell_type": "markdown",
   "id": "9360b43e-6989-427f-863e-78cbb15376ca",
   "metadata": {},
   "source": [
    "***Quarto is an open-source scientific and technical publishing system built on Pandoc.***\n",
    "\n",
    "- Publish high-quality articles, reports, presentations, websites, blogs, and books in HTML, PDF, MS Word, ePub, and more.\n",
    "- Author with scientific markdown, including equations, citations, crossrefs, figure panels, callouts, advanced layout, and more."
   ]
  },
  {
   "cell_type": "markdown",
   "id": "fe90b113-24b5-48fc-87eb-82d7f7b1b4be",
   "metadata": {},
   "source": [
    "# Why should we use quarto? "
   ]
  },
  {
   "cell_type": "markdown",
   "id": "707f3f99-08b9-44c4-a3d6-ff710ec7b482",
   "metadata": {},
   "source": [
    "## Equations (1)"
   ]
  },
  {
   "cell_type": "markdown",
   "id": "c9087712-7c72-4ab1-8e38-58f19db3872f",
   "metadata": {},
   "source": [
    "- $x, y, z$\n",
    "\n",
    "- $x_1,x_2,x_3$\n",
    "\n",
    "- $x^2, x^3, x^4$\n",
    "\n",
    "- $\\alpha, \\beta, \\gamma, \\delta, \\epsilon$ \n",
    "\n",
    "- $\\frac{1}{2}, \\frac{1}{3}, \\frac{2}{3}, \\dots$\n",
    "\n",
    "- $\\frac{1}{\\sqrt{2\\pi}} e^{-\\frac{1}{2}x^2}$\n",
    "\n",
    "- $X_1, X_2, \\dots, X_n \\overset{i.i.d.}{\\sim} N(0,1)$\n",
    "\n",
    "- $\\frac{X_1+\\dots+X_n}{n} \\overset{p}{\\to} \\mu$"
   ]
  },
  {
   "cell_type": "markdown",
   "id": "efb79d0e-94b2-4106-8192-96a6cc6e7a9e",
   "metadata": {},
   "source": [
    "## Equations (2)"
   ]
  },
  {
   "cell_type": "markdown",
   "id": "21bf4142-e7b5-4802-b48b-819bd3aabc0f",
   "metadata": {},
   "source": [
    "- ${\\boldsymbol a}, {\\bf a}, {\\boldsymbol B}, {\\bf B}, {\\boldsymbol \\alpha}, {\\boldsymbol \\Omega}, \\dots$\n",
    "\n",
    "- ${\\cal A}, {\\cal B}, {\\cal C}, \\dots$\n",
    "\n",
    "- $\\mathbb{R}, \\mathbb{Z}, \\mathbb{R}^2, \\dots$ \n",
    "\n",
    "- ${\\bf A}^{-1}, {\\bf A}^{\\top}, {\\bf A}^t, \\dots$ \n",
    "\n",
    "- ${\\boldsymbol y} = {\\bf X}{\\boldsymbol \\beta} + {\\boldsymbol \\epsilon}, \\quad {\\boldsymbol \\epsilon} \\sim N({\\bf 0}, {\\bf I})$\n",
    "\n",
    "- $\\underset{x}{\\operatorname{min}}f(x)$, $\\underset{x}{\\operatorname{argmin}}f(x)$\n",
    "\n",
    "- $\\begin{cases} x+y = 1 \\\\ x-y = 1\\end{cases}$"
   ]
  },
  {
   "cell_type": "markdown",
   "id": "2792eb67-dbd8-451e-bfa2-73096f8572e6",
   "metadata": {},
   "source": [
    "## Tables (1)"
   ]
  },
  {
   "cell_type": "markdown",
   "id": "259a30ea-88fe-4f09-ad18-d74483da9650",
   "metadata": {},
   "source": [
    "| Default | Left | Right | Center |\n",
    "|---------|:-----|------:|:------:|\n",
    "| 12      | 12   |    12 |   12   |\n",
    "| 123     | 123  |   123 |  123   |\n",
    "| 1       | 1    |     1 |   1    |\n",
    "\n",
    ": Demonstration of pipe table syntax"
   ]
  },
  {
   "cell_type": "markdown",
   "id": "f7d5c452-1df6-4bdf-b6fe-9152f15b577c",
   "metadata": {},
   "source": [
    "## Tables (2)"
   ]
  },
  {
   "cell_type": "markdown",
   "id": "1acc3529-605c-49d9-b9c1-10a1cb84389f",
   "metadata": {},
   "source": [
    "::: {#tbl-panel layout-ncol=2}\n",
    "| Col1 | Col2 | Col3 |\n",
    "|------|------|------|\n",
    "| A    | B    | C    |\n",
    "| E    | F    | G    |\n",
    "| A    | G    | G    |\n",
    "\n",
    ": First Table {#tbl-first}\n",
    "\n",
    "| Col1 | Col2 | Col3 |\n",
    "|------|------|------|\n",
    "| A    | B    | C    |\n",
    "| E    | F    | G    |\n",
    "| A    | G    | G    |\n",
    "\n",
    ": Second Table {#tbl-second}\n",
    "\n",
    "Main Caption\n",
    ":::\n",
    "\n",
    "Main Caption "
   ]
  },
  {
   "cell_type": "markdown",
   "id": "ed7424dc-eeb3-430b-ae1f-9f84306f7893",
   "metadata": {},
   "source": [
    "## Diagrams (1)"
   ]
  },
  {
   "cell_type": "markdown",
   "id": "37b94f35-2242-4082-97eb-bd1cc8c1349e",
   "metadata": {},
   "source": [
    "```{mermaid}\n",
    "flowchart LR\n",
    "  A[Hard edge] --> B(Round edge)\n",
    "  B --> C{Decision}\n",
    "  C --> D[Result1]\n",
    "  C --> E[Result2]\n",
    "```"
   ]
  },
  {
   "cell_type": "markdown",
   "id": "8c2733ef-df79-4b60-ac9e-7ce4681a47b3",
   "metadata": {},
   "source": [
    "## Diagrams (2)"
   ]
  },
  {
   "cell_type": "markdown",
   "id": "60138df3-646f-46d2-8852-22147c6f62cc",
   "metadata": {},
   "source": [
    "```{mermaid}\n",
    "sequenceDiagram\n",
    "  participant Alice\n",
    "  participant Bob\n",
    "  Alice->>John: Hello John, how are you?\n",
    "  loop Healthcheck\n",
    "    John->>John: Fight against hypochondria\n",
    "  end\n",
    "  Note right of John: Rational thoughts <br/>prevail!\n",
    "  John-->>Alice: Great!\n",
    "  John->>Bob: How about you?\n",
    "  Bob-->>John: Jolly good!\n",
    "```"
   ]
  },
  {
   "cell_type": "markdown",
   "id": "f6db5e51-a9ad-4abc-8dd1-7c394d036ab1",
   "metadata": {},
   "source": [
    "## Diagrams (3)"
   ]
  },
  {
   "cell_type": "markdown",
   "id": "27056b20-69f7-4c3f-bfff-cf2ca6fc1ebd",
   "metadata": {},
   "source": [
    "```{dot}\n",
    "graph G {\n",
    "  layout=neato\n",
    "  run -- intr;\n",
    "  intr -- runbl;\n",
    "  runbl -- run;\n",
    "  run -- kernel;\n",
    "  kernel -- zombie;\n",
    "  kernel -- sleep;\n",
    "  kernel -- runmem;\n",
    "  sleep -- swap;\n",
    "  swap -- runswap;\n",
    "  runswap -- new;\n",
    "  runswap -- runmem;\n",
    "  new -- runmem;\n",
    "  sleep -- runmem;\n",
    "}\n",
    "```"
   ]
  },
  {
   "cell_type": "markdown",
   "id": "c4f63c0b-0271-404c-b38e-b09cc2497760",
   "metadata": {},
   "source": [
    "## Footnotes"
   ]
  },
  {
   "cell_type": "markdown",
   "id": "753b9cbb-4817-45b8-886f-24612f824dfa",
   "metadata": {},
   "source": [
    "Here is an inline note.^[Inlines notes are easier to write,\n",
    "since you don't have to pick an identifier and move down to\n",
    "type the note.]"
   ]
  },
  {
   "cell_type": "markdown",
   "id": "3b0d967a-1bd7-4ca5-b587-4a477e1cc0da",
   "metadata": {},
   "source": [
    "## Citation \n",
    "\n",
    "::: {layout-ncol=2}\n",
    "### codes in quarto\n",
    "```\n",
    "- Blah Blah [@chandola2009anomaly; @bronstein2017geometric].\n",
    "\n",
    "- Chandola says blah [-@chandola2009anomaly]\n",
    "```\n",
    "    \n",
    "### output\n",
    "\n",
    "- Blah Blah [@chandola2009anomaly; @bronstein2017geometric].\n",
    "\n",
    "- Chandola says blah [-@chandola2009anomaly]\n",
    ":::"
   ]
  },
  {
   "cell_type": "markdown",
   "id": "971b2a73-7d0f-4bbb-bcc2-d0e28fba2182",
   "metadata": {},
   "source": [
    "## Bibliography Generation"
   ]
  },
  {
   "cell_type": "markdown",
   "id": "d7909e1b-ef1d-485f-b04f-831a9b15566c",
   "metadata": {},
   "source": [
    "::: {layout-ncol=2}\n",
    "### codes in quarto\n",
    "```\n",
    "::: {#refs}\n",
    ":::\n",
    "```\n",
    "\n",
    "\n",
    "    \n",
    "### output\n",
    "::: {#refs}\n",
    ":::\n",
    ":::"
   ]
  },
  {
   "cell_type": "markdown",
   "id": "01a69724-21cf-470e-b42d-9fd4575b3c1b",
   "metadata": {},
   "source": [
    "## Tabsets"
   ]
  },
  {
   "cell_type": "markdown",
   "id": "06c17977-a202-4373-a88d-0d394de9da3f",
   "metadata": {},
   "source": [
    "::: {.panel-tabset}\n",
    "\n",
    "### Tab A\n",
    "\n",
    "Content for `Tab A`\n",
    "\n",
    "### Tab B\n",
    "\n",
    "Content for `Tab B`\n",
    "\n",
    ":::"
   ]
  },
  {
   "cell_type": "markdown",
   "id": "a6dfd5b1-1318-464d-b261-c3b8e86d1a4c",
   "metadata": {},
   "source": [
    "## Figures (1)"
   ]
  },
  {
   "cell_type": "markdown",
   "id": "beb1ee9a-fb72-4dba-9aba-84dfd0b48cbb",
   "metadata": {},
   "source": [
    "![](https://upload.wikimedia.org/wikipedia/commons/6/6d/Asian_Elephant%2C_Royal_Chitwan_National_Park.jpg)"
   ]
  },
  {
   "cell_type": "markdown",
   "id": "0a563cb5-0ee2-4581-99cf-751dd72b4cd7",
   "metadata": {},
   "source": [
    "## Figures (2)"
   ]
  },
  {
   "cell_type": "markdown",
   "id": "37e5e905-a94c-43a7-91c9-8a921b083350",
   "metadata": {},
   "source": [
    "```Python\n",
    "#| layout-ncol: 2\n",
    "#| fig-cap: \n",
    "#|   - \"Fig1: Scatter Plot\"\n",
    "#|   - \"Fig2: Dot-connected Plot\"\n",
    "\n",
    "import matplotlib.pyplot as plt\n",
    "plt.plot([1,2,4,3],'ro'); plt.show()\n",
    "plt.plot([1,2,4,3],'--ro'); plt.show()\n",
    "```"
   ]
  },
  {
   "cell_type": "code",
   "execution_count": 1,
   "id": "fe775ce7-9a4a-4e35-921a-9618112674a6",
   "metadata": {},
   "outputs": [
    {
     "data": {
      "image/png": "[encoded data removed]",
      "text/plain": [
       "<Figure size 432x288 with 1 Axes>"
      ]
     },
     "metadata": {
      "needs_background": "light"
     },
     "output_type": "display_data"
    },
    {
     "data": {
      "image/png": "[encoded data removed]",
      "text/plain": [
       "<Figure size 432x288 with 1 Axes>"
      ]
     },
     "metadata": {
      "needs_background": "light"
     },
     "output_type": "display_data"
    }
   ],
   "source": [
    "#| layout-ncol: 2\n",
    "#| fig-cap: \n",
    "#|   - \"Fig1: Scatter Plot\"\n",
    "#|   - \"Fig2: Dot-connected Plot\"\n",
    "\n",
    "import matplotlib.pyplot as plt\n",
    "plt.plot([1,2,4,3],'ro');plt.show()\n",
    "plt.plot([1,2,4,3],'--ro');plt.show()"
   ]
  },
  {
   "cell_type": "markdown",
   "id": "012f9e67-0a08-4a32-8947-95fb4bc713ee",
   "metadata": {},
   "source": [
    "## Layout (1)"
   ]
  },
  {
   "cell_type": "markdown",
   "id": "2d87cb47-ee45-4d47-9ab6-cb3f93e7c2c5",
   "metadata": {},
   "source": [
    "::: {layout-ncol=2}\n",
    "### List One\n",
    "\n",
    "- Item A\n",
    "- Item B\n",
    "- Item C\n",
    "\n",
    "### List Two\n",
    "\n",
    "- Item X\n",
    "- Item Y\n",
    "- Item Z\n",
    ":::"
   ]
  },
  {
   "cell_type": "markdown",
   "id": "ad2afc50-705a-4270-a7d2-11aeecc831fb",
   "metadata": {},
   "source": [
    "## Layout (2)"
   ]
  },
  {
   "cell_type": "markdown",
   "id": "44dd38bf-0e79-4bda-a75a-b7d81012500f",
   "metadata": {},
   "source": [
    "::: {layout-ncol=2}\n",
    "- Item X\n",
    "- Item Y\n",
    "- Item Z\n",
    "\n",
    "Lorem ipsum dolor sit amet, consectetur adipiscing elit. Curabitur gravida eu erat et fring. Morbi congue augue vel eros ullamcorper, eget convallis tortor sagittis. \n",
    ":::"
   ]
  },
  {
   "cell_type": "markdown",
   "id": "d450bcd1-df09-46f9-b1ae-32577ab0601d",
   "metadata": {},
   "source": [
    "## Chalkboard"
   ]
  },
  {
   "cell_type": "markdown",
   "id": "f733b630-7bb7-4063-ac25-2563266491a0",
   "metadata": {},
   "source": [
    "Quarto includes a built-in version of the reveal.js-chalkboard plugin."
   ]
  },
  {
   "cell_type": "markdown",
   "id": "10b12a1c-66d9-4ee7-ad5f-22a7a67f8de2",
   "metadata": {},
   "source": [
    "- Airticles & Reports: [html](https://quarto-dev.github.io/quarto-gallery/articles/html/html.html), [pdf1](https://nmfs-opensci.github.io/quarto_titlepages/titlepages/bg-image/article.pdf), [pdf2](https://quarto-dev.github.io/quarto-gallery/page-layout/tufte.pdf), [msword](https://quarto-dev.github.io/quarto-gallery/articles/msword/msword.docx).\n"
   ]
  },
  {
   "cell_type": "markdown",
   "id": "f79fb9d7-8844-4090-9c1f-75889dd5a2e4",
   "metadata": {},
   "source": [
    "- Presentations: [beamer](https://quarto-dev.github.io/quarto-gallery/presentations/beamer/beamer.pdf), [powerpoint](https://quarto-dev.github.io/quarto-gallery/presentations/powerpoint/powerpoint.pptx)."
   ]
  },
  {
   "cell_type": "markdown",
   "id": "669b5dc6-0427-4beb-a8d8-6ea2989ac24c",
   "metadata": {},
   "source": [
    "- Websites: [DV2022](https://guebin.github.io/DV2022/), [DL2022](https://guebin.github.io/DL2022/)."
   ]
  },
  {
   "cell_type": "markdown",
   "id": "5f435755-4fcc-4cd7-8516-c6cfa5e9bbf9",
   "metadata": {},
   "source": [
    "- Books: [Hands-On Programming with R](https://jjallaire.github.io/hopr/), [Python for Data Analysis, 3E](https://wesmckinney.com/book/)."
   ]
  },
  {
   "cell_type": "markdown",
   "id": "0880cb97-38ed-4d5f-994f-447ab04c1ae0",
   "metadata": {},
   "source": [
    "# Reviews "
   ]
  },
  {
   "cell_type": "markdown",
   "id": "a1f2e820-09d7-4236-852e-13140f5fefb1",
   "metadata": {},
   "source": [
    "## Minor advantages"
   ]
  },
  {
   "cell_type": "markdown",
   "id": "f5150547-43aa-4bea-a5fa-04cf51ca3aec",
   "metadata": {},
   "source": [
    "- Quarto-based lecture contents OS independent. It can be used on both Windows and Mac, and can be accessed from various media such as PCs, tablets, and mobile phones."
   ]
  },
  {
   "cell_type": "markdown",
   "id": "2c4daaae-c1ef-4750-b4b4-4ecb39006500",
   "metadata": {},
   "source": [
    "- By reproducing professor's lecture notes, it is easy for students to create their own organizing blog. ([Seoyeon’s Blog for classes\n",
    "](https://seoyeonc.github.io/md/))"
   ]
  },
  {
   "cell_type": "markdown",
   "id": "3a2121b2-0b15-4f78-93a8-caaf12c85186",
   "metadata": {},
   "source": [
    "- Animation and interactive plot are supported as documents."
   ]
  },
  {
   "cell_type": "markdown",
   "id": "a1c29612-219a-434f-b615-4f79125bd9c0",
   "metadata": {},
   "source": [
    "- Lecture contents using quarto are highly specialized for review and exploration."
   ]
  },
  {
   "cell_type": "markdown",
   "id": "0211e7ab-a713-4ac8-a43d-ca1b62e4f404",
   "metadata": {},
   "source": [
    "## Main advantage"
   ]
  },
  {
   "cell_type": "markdown",
   "id": "3418b805-6565-4a0f-aac1-fe251f57437a",
   "metadata": {},
   "source": [
    "You can create lecture materials very quickly!!"
   ]
  },
  {
   "cell_type": "markdown",
   "id": "a1ee2c58-5776-4df0-a426-854d4a0567bb",
   "metadata": {},
   "source": [
    "# A few tips for a good lecture"
   ]
  },
  {
   "cell_type": "markdown",
   "id": "722bc2cb-1e7f-4d3e-abab-5f13703fcd78",
   "metadata": {},
   "source": [
    "## Minor tips "
   ]
  },
  {
   "cell_type": "markdown",
   "id": "fe990bcc-b21b-465b-9d98-74ad79c1de80",
   "metadata": {},
   "source": [
    "- Try to communicate with students through various channels. (LMS, e-mail, personal consultation, 1:1 anonymous messenger, zoom, etc)"
   ]
  },
  {
   "cell_type": "markdown",
   "id": "ca2b16d4-5826-45b0-9278-cd5eda393426",
   "metadata": {},
   "source": [
    "- Active use of non-face-to-face educational contents."
   ]
  },
  {
   "cell_type": "markdown",
   "id": "72fe2274-c357-40df-8182-ff2f553444f1",
   "metadata": {},
   "source": [
    "- Always think about educational materials that will attract students' interest. ([IR2022 Final](https://guebin.github.io/IR2021/2021/12/21/2021%EB%85%84-2%ED%95%99%EA%B8%B0-R%EC%9E%85%EB%AC%B8%EA%B8%B0%EB%A7%90%EA%B3%A0%EC%82%AC.html))"
   ]
  },
  {
   "cell_type": "markdown",
   "id": "ccece3a5-43c7-41f6-ab19-fa1a1ab055e9",
   "metadata": {},
   "source": [
    "## Main secret\n",
    "\n",
    "**In fact, the most important secret is to invest a lot of time.** But in reality it is not easy. (So you need a tool like quarto!)"
   ]
  },
  {
   "cell_type": "markdown",
   "id": "50f6391f-9a42-415f-a918-db820e9be9c8",
   "metadata": {},
   "source": [
    "# About LMS "
   ]
  },
  {
   "cell_type": "markdown",
   "id": "7b826c91-4e83-48c0-abb4-db927f01e8ef",
   "metadata": {},
   "source": [
    "- Advantageous for long-term storage of assignments, midterms, and final exam submissions.\n",
    "- Easy attendance management."
   ]
  }
 ],
 "metadata": {
  "kernelspec": {
   "display_name": "Python 3 (ipykernel)",
   "language": "python",
   "name": "python3"
  },
  "language_info": {
   "codemirror_mode": {
    "name": "ipython",
    "version": 3
   },
   "file_extension": ".py",
   "mimetype": "text/x-python",
   "name": "python",
   "nbconvert_exporter": "python",
   "pygments_lexer": "ipython3",
   "version": "3.7.13"
  }
 },
 "nbformat": 4,
 "nbformat_minor": 5
}
